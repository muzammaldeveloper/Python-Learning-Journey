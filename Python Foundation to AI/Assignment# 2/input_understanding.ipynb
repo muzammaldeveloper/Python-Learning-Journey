{
 "cells": [
  {
   "cell_type": "markdown",
   "id": "bf6551ec",
   "metadata": {},
   "source": [
    "# Assignment (input understanding)\n",
    "- is ma ham na input ka sika hha ka ya kasa work karta ha or f string ka b parha ha "
   ]
  },
  {
   "cell_type": "code",
   "execution_count": null,
   "id": "68d54f27",
   "metadata": {},
   "outputs": [
    {
     "name": "stdout",
     "output_type": "stream",
     "text": [
      "My name is Muzammal Hussain. my age is 20 year old\n"
     ]
    }
   ],
   "source": [
    "# Taking input from the user for their first name and converting it to a string\n",
    "text1 = str(input(\"Enter your first name: \"))\n",
    "\n",
    "# Taking input from the user for their age and converting it to an integer\n",
    "text2 = int(input(\"Enter your Age:\"))\n",
    "\n",
    "# Printing the user's name and age using an f-string for clean formatting\n",
    "print(f\"My name is {text1}. My age is {text2} years old\")\n"
   ]
  },
  {
   "cell_type": "code",
   "execution_count": null,
   "id": "12b49ac0",
   "metadata": {},
   "outputs": [],
   "source": []
  }
 ],
 "metadata": {
  "kernelspec": {
   "display_name": "Python 3",
   "language": "python",
   "name": "python3"
  },
  "language_info": {
   "codemirror_mode": {
    "name": "ipython",
    "version": 3
   },
   "file_extension": ".py",
   "mimetype": "text/x-python",
   "name": "python",
   "nbconvert_exporter": "python",
   "pygments_lexer": "ipython3",
   "version": "3.10.11"
  }
 },
 "nbformat": 4,
 "nbformat_minor": 5
}
