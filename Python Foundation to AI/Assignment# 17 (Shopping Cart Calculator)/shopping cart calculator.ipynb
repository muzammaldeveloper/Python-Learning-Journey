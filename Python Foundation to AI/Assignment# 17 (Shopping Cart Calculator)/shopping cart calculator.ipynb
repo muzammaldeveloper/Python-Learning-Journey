{
 "cells": [
  {
   "cell_type": "markdown",
   "id": "ddae25af",
   "metadata": {},
   "source": [
    "# Shopping Cart Calculator\n"
   ]
  },
  {
   "cell_type": "code",
   "execution_count": 4,
   "id": "04853d4a",
   "metadata": {},
   "outputs": [
    {
     "name": "stdout",
     "output_type": "stream",
     "text": [
      "Total cost of items in the cart: $7.70\n"
     ]
    }
   ],
   "source": [
    "# Function to compute the total cost of items in a shopping cart\n",
    "def calculate_total_cost(cart):\n",
    "    '''Returns the total cost by multiplying price and quantity for each item in the cart.'''\n",
    "    total_cost = 0\n",
    "    for item in cart:\n",
    "        # Multiply price with quantity for each item and add to total\n",
    "        total_cost += item['price'] * item['quantity']\n",
    "    return total_cost\n",
    "\n",
    "# Sample shopping cart containing items with name, price, and quantity\n",
    "cart = [\n",
    "    {'name': 'apple', 'price': 1.2, 'quantity': 3},\n",
    "    {'name': 'banana', 'price': 0.5, 'quantity': 5},\n",
    "    {'name': 'orange', 'price': 0.8, 'quantity': 2}\n",
    "]\n",
    "\n",
    "# Calculate the total cost of all items in the cart\n",
    "total_cost = calculate_total_cost(cart)\n",
    "\n",
    "# Display the total cost with 2 decimal places\n",
    "print(f'Total cost of items in the cart: ${total_cost:.2f}')\n"
   ]
  }
 ],
 "metadata": {
  "kernelspec": {
   "display_name": "class",
   "language": "python",
   "name": "python3"
  },
  "language_info": {
   "codemirror_mode": {
    "name": "ipython",
    "version": 3
   },
   "file_extension": ".py",
   "mimetype": "text/x-python",
   "name": "python",
   "nbconvert_exporter": "python",
   "pygments_lexer": "ipython3",
   "version": "3.10.11"
  }
 },
 "nbformat": 4,
 "nbformat_minor": 5
}
