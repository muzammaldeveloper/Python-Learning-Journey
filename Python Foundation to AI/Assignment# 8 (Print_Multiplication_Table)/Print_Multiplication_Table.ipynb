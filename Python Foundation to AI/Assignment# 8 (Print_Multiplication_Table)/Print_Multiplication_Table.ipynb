{
 "cells": [
  {
   "cell_type": "markdown",
   "id": "a13de9a7",
   "metadata": {},
   "source": [
    "# Print Multiplication Table\n",
    "\n",
    "##  Objective:\n",
    "Create a program that prints the multiplication table of a number entered by the user using a `for` loop.\n",
    "\n",
    "##  Instructions:\n",
    "1. Ask the user to enter a number.\n",
    "2. Convert the input to an integer using `int()`.\n",
    "3. Use a `for` loop to repeat from 1 to 10.\n",
    "4. Multiply the number with the loop counter and print the result.\n",
    "\n",
    "## 📌 Example Output:\n",
    "\n",
    "    Enter a number: 6\n",
    "    6 x 1 = 6\n",
    "    6 x 2 = 12\n",
    "    ...\n",
    "    6 x 10 = 60"
   ]
  },
  {
   "cell_type": "code",
   "execution_count": null,
   "id": "f22a2535",
   "metadata": {},
   "outputs": [
    {
     "name": "stdout",
     "output_type": "stream",
     "text": [
      "2 x 1 = 2\n",
      "2 x 2 = 4\n",
      "2 x 3 = 6\n",
      "2 x 4 = 8\n",
      "2 x 5 = 10\n",
      "2 x 6 = 12\n",
      "2 x 7 = 14\n",
      "2 x 8 = 16\n",
      "2 x 9 = 18\n",
      "2 x 10 = 20\n"
     ]
    }
   ],
   "source": [
    "# Ask the user to enter a number\n",
    "num = int(input(\"Enter a number: \"))\n",
    "\n",
    "# Use a for loop to print the multiplication table from 1 to 10\n",
    "for i in range(1, 11):\n",
    "    # Print the result in the format: number x i = result\n",
    "    print(f\"{num} x {i} = {num * i}\")\n"
   ]
  }
 ],
 "metadata": {
  "kernelspec": {
   "display_name": "Python 3",
   "language": "python",
   "name": "python3"
  },
  "language_info": {
   "codemirror_mode": {
    "name": "ipython",
    "version": 3
   },
   "file_extension": ".py",
   "mimetype": "text/x-python",
   "name": "python",
   "nbconvert_exporter": "python",
   "pygments_lexer": "ipython3",
   "version": "3.13.5"
  }
 },
 "nbformat": 4,
 "nbformat_minor": 5
}
