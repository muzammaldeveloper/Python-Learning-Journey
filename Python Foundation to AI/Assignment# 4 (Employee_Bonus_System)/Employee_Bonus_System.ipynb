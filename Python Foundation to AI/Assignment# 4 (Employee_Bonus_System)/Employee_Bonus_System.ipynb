{
 "cells": [
  {
   "cell_type": "markdown",
   "id": "661bcd09",
   "metadata": {},
   "source": [
    "#  Employee Bonus System\n",
    "\n",
    "In this program, we:\n",
    "\n",
    "- Ask the user to enter their **years of experience** using the `input()` function.\n",
    "- Then, we request their **performance rating**, which should be a **floating-point number between 1.0 and 5.0**.\n",
    "- We use **conditional statements (`if`, `elif`, `else`)** along with **comparison operators** to determine the appropriate bonus percentage.\n",
    "- The logic also includes **nested conditions** to account for different experience levels within each rating category.\n",
    "- Finally, we calculate the bonus based on the user's **current salary** and display both the **bonus percentage** and **bonus amount**.\n",
    "\n",
    "This system demonstrates a practical use of:\n",
    "- `input()` functions  \n",
    "- Conditional logic  \n",
    "- Comparison operators  \n",
    "- Nested `if` statements  \n",
    "- Basic arithmetic operations for percentage-based calculations\n"
   ]
  },
  {
   "cell_type": "code",
   "execution_count": null,
   "id": "e3ed7540",
   "metadata": {},
   "outputs": [
    {
     "name": "stdout",
     "output_type": "stream",
     "text": [
      "Bonus Percentage: 5%\n",
      "Bonus Amount: $500.0\n"
     ]
    }
   ],
   "source": [
    "# Employee Bonus System\n",
    "\n",
    "# This program calculates the bonus percentage and bonus amount for an employee\n",
    "# based on their years of experience and performance rating.\n",
    "\n",
    "# Step 1: Take user input for experience in years (integer) and performance rating (float from 1.0 to 5.0)\n",
    "year_of_experience = int(input(\"Enter your years of experience: \"))\n",
    "performane_rating = float(input(\"Enter your performance rating (1.0 to 5.0): \"))\n",
    "\n",
    "# Step 2: Use nested conditions and comparison operators to determine bonus percentage\n",
    "if performane_rating >= 4.5:\n",
    "    if year_of_experience >= 10:\n",
    "        bonus_percentage = 20\n",
    "    elif year_of_experience >= 5:\n",
    "        bonus_percentage = 15\n",
    "    else:\n",
    "        bonus_percentage = 10\n",
    "elif performane_rating >= 3.5:\n",
    "    if year_of_experience >= 10:\n",
    "        bonus_percentage = 15\n",
    "    elif year_of_experience >= 5:\n",
    "        bonus_percentage = 10\n",
    "    else:\n",
    "        bonus_percentage = 5\n",
    "else:\n",
    "    bonus_percentage = 0  # No bonus for low performance\n",
    "\n",
    "# Step 3: Take user input for current salary and calculate bonus amount\n",
    "salary = float(input(\"Enter your current salary amount: \"))\n",
    "bonus_amount = salary * bonus_percentage / 100\n",
    "\n",
    "# Step 4: Display the bonus details\n",
    "print(f\"Bonus Percentage: {bonus_percentage}%\")\n",
    "print(f\"Bonus Amount: ${bonus_amount}\")\n"
   ]
  }
 ],
 "metadata": {
  "kernelspec": {
   "display_name": "Python 3",
   "language": "python",
   "name": "python3"
  },
  "language_info": {
   "codemirror_mode": {
    "name": "ipython",
    "version": 3
   },
   "file_extension": ".py",
   "mimetype": "text/x-python",
   "name": "python",
   "nbconvert_exporter": "python",
   "pygments_lexer": "ipython3",
   "version": "3.13.5"
  }
 },
 "nbformat": 4,
 "nbformat_minor": 5
}
