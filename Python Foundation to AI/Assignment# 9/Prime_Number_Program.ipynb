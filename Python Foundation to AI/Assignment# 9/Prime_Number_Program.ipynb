{
 "cells": [
  {
   "cell_type": "markdown",
   "id": "ccbcb347",
   "metadata": {},
   "source": [
    "# Nested Loop Assignment – Prime Numbers from 1 to 100\n",
    "\n",
    "## Objective:\n",
    "Write a Python program using a **nested loop** to find and print all **prime numbers** between **1 and 100**.\n",
    "\n",
    "> A prime number is a number that is only divisible by 1 and itself.  \n",
    "> It has no other divisors and cannot be evenly divided by any number except 1 and itself.\n"
   ]
  },
  {
   "cell_type": "code",
   "execution_count": 1,
   "id": "d3084c0b",
   "metadata": {},
   "outputs": [
    {
     "name": "stdout",
     "output_type": "stream",
     "text": [
      "2\n",
      "3\n",
      "5\n",
      "7\n",
      "11\n",
      "13\n",
      "17\n",
      "19\n",
      "23\n",
      "29\n",
      "31\n",
      "37\n",
      "41\n",
      "43\n",
      "47\n",
      "53\n",
      "59\n",
      "61\n",
      "67\n",
      "71\n",
      "73\n",
      "79\n",
      "83\n",
      "89\n",
      "97\n"
     ]
    }
   ],
   "source": [
    "\n",
    "# Prime Numbers between 1 and 100 using Nested Loop\n",
    "\n",
    "# Outer loop to go through numbers from 1 to 100\n",
    "for num in range(1, 101):\n",
    "\n",
    "    # Prime numbers are greater than 1\n",
    "    if num > 1:\n",
    "\n",
    "        # Inner loop to check for factors of num\n",
    "        for i in range(2, num):\n",
    "            # If num is divisible by any number between 2 and num-1, it's not prime\n",
    "            if num % i == 0:\n",
    "                break  # Exit the loop if not prime\n",
    "\n",
    "        # If the inner loop didn't break, then num is prime\n",
    "        else:\n",
    "            print(num)"
   ]
  },
  {
   "cell_type": "code",
   "execution_count": null,
   "id": "4e5fa7ce",
   "metadata": {},
   "outputs": [],
   "source": []
  }
 ],
 "metadata": {
  "kernelspec": {
   "display_name": "class",
   "language": "python",
   "name": "python3"
  },
  "language_info": {
   "codemirror_mode": {
    "name": "ipython",
    "version": 3
   },
   "file_extension": ".py",
   "mimetype": "text/x-python",
   "name": "python",
   "nbconvert_exporter": "python",
   "pygments_lexer": "ipython3",
   "version": "3.10.11"
  }
 },
 "nbformat": 4,
 "nbformat_minor": 5
}
