{
 "cells": [
  {
   "cell_type": "markdown",
   "id": "79fd6659",
   "metadata": {},
   "source": [
    "\n",
    "# Inventory Management System\n",
    "- In this assignment, I created a basic Inventory Management System using Python.\n",
    "- I started by defining an inventory list, then added a new item and removed one.\n",
    "- After that, I implemented a search feature where the user can check if an item exists in the inventory using conditional statements.\n",
    "- Finally, the program prints the updated list of all available items."
   ]
  },
  {
   "cell_type": "code",
   "execution_count": 2,
   "id": "b1a1d8f0",
   "metadata": {},
   "outputs": [
    {
     "name": "stdout",
     "output_type": "stream",
     "text": [
      "'suger' is not available in the inventory.\n",
      "\n",
      "All Available Inventory Items:\n",
      "1. Oil\n",
      "2. Sugar\n",
      "3. Salt\n",
      "4. Rice\n",
      "5. Flour\n",
      "6. Lentils\n",
      "7. Spices\n",
      "8. Coffee\n",
      "9. Cooking Oil\n",
      "10. Noodles\n"
     ]
    }
   ],
   "source": [
    "# Inventory Management System (Simple Console Version)\n",
    "\n",
    "# Step 1: Create initial inventory list\n",
    "inventory = [\n",
    "    \"oil\", \"sugar\", \"salt\", \"rice\", \"flour\",\n",
    "    \"lentils\", \"spices\", \"tea\", \"coffee\", \"cooking oil\"\n",
    "]\n",
    "\n",
    "# Step 2: Add a new item to the inventory\n",
    "inventory.append(\"noodles\")\n",
    "\n",
    "# Step 3: Remove an unwanted item\n",
    "if \"tea\" in inventory:\n",
    "    inventory.remove(\"tea\")\n",
    "\n",
    "# Step 4: Search for an item in the inventory\n",
    "item = input(\"Enter the item you want to search: \").strip().lower()\n",
    "\n",
    "# Step 5: Check item availability using conditional statement\n",
    "if item in [i.lower() for i in inventory]:\n",
    "    print(f\"'{item}' is available in the inventory.\")\n",
    "else:\n",
    "    print(f\"'{item}' is not available in the inventory.\")\n",
    "\n",
    "# Step 6: Display the final inventory\n",
    "print(\"\\nAll Available Inventory Items:\")\n",
    "for idx, product in enumerate(inventory, start=1):\n",
    "    print(f\"{idx}. {product.title()}\")\n"
   ]
  }
 ],
 "metadata": {
  "kernelspec": {
   "display_name": "class",
   "language": "python",
   "name": "python3"
  },
  "language_info": {
   "codemirror_mode": {
    "name": "ipython",
    "version": 3
   },
   "file_extension": ".py",
   "mimetype": "text/x-python",
   "name": "python",
   "nbconvert_exporter": "python",
   "pygments_lexer": "ipython3",
   "version": "3.10.11"
  }
 },
 "nbformat": 4,
 "nbformat_minor": 5
}
