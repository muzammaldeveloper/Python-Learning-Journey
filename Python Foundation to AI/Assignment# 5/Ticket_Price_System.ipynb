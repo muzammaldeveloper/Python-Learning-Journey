{
 "cells": [
  {
   "cell_type": "markdown",
   "id": "0ed2dfa9",
   "metadata": {},
   "source": [
    "# Ticket Price System\n",
    "\n",
    "In this program:\n",
    "\n",
    "- We ask the user to enter their **age**.\n",
    "- Then we ask if they are a **student** (Yes/No).\n",
    "- We use the `.lower()` function to handle the student input in lowercase.\n",
    "- Based on the age and student status, we use **nested conditions** to decide the ticket price.\n",
    "- We use **comparison operators** like `<=` and `==` to check age groups.\n",
    "- At the end, we print the ticket price, age, and student status.\n",
    "\n",
    "This program helps practice `input()`, `if-elif`, nested conditions, and printing results clearly.\n"
   ]
  },
  {
   "cell_type": "code",
   "execution_count": null,
   "id": "9430a5f5",
   "metadata": {},
   "outputs": [
    {
     "name": "stdout",
     "output_type": "stream",
     "text": [
      "Your ticket price is: $free\n",
      "Age: 5\n",
      "Student Status: NO\n"
     ]
    }
   ],
   "source": [
    "# Ticket Price System\n",
    "# This program calculates the ticket price based on age and student status using nested conditions.\n",
    "\n",
    "# --- Get User Inputs ---\n",
    "# Ask user to input their age (converted to integer)\n",
    "age = int(input(\"Enter your Age: \"))\n",
    "\n",
    "# Ask user if they are a student (Yes/No), and convert to lowercase to handle case sensitivity\n",
    "student_status = str(input(\"Enter your student status: (Yes/No) \")).lower()\n",
    "\n",
    "# --- Determine Ticket Price Based on Age and Student Status ---\n",
    "if age <= 5:\n",
    "    ticket_price = \"free\"  # Children under 5 get a free ticket\n",
    "elif age <= 12:\n",
    "    if student_status == \"yes\":\n",
    "        ticket_price = 5    # Student in this age group gets a discount\n",
    "    else:\n",
    "        ticket_price = 10   # Non-student pays regular price\n",
    "elif age <= 18:\n",
    "    if student_status == \"yes\":\n",
    "        ticket_price = 7    # Teen student price\n",
    "    else:\n",
    "        ticket_price = 12   # Teen non-student price\n",
    "elif age <= 64:\n",
    "    if student_status == \"yes\":\n",
    "        ticket_price = 10   # Adult student discount\n",
    "    else:\n",
    "        ticket_price = 15   # Regular adult ticket\n",
    "elif age >= 65:\n",
    "    if student_status == \"yes\":\n",
    "        ticket_price = 8    # Senior student discount\n",
    "    else:\n",
    "        ticket_price = 15   # Senior regular ticket\n",
    "else:\n",
    "    ticket_price = \"invalid age\"  # Handles any unexpected input (though practically unreachable)\n",
    "\n",
    "# --- Display Final Ticket Info ---\n",
    "print(f\"Your ticket price is: ${ticket_price}\")        # Show the ticket price\n",
    "print(\"Age:\", age)                                      # Show entered age\n",
    "print(\"Student Status:\", student_status.upper())        # Show student status in uppercase\n"
   ]
  }
 ],
 "metadata": {
  "kernelspec": {
   "display_name": "class",
   "language": "python",
   "name": "python3"
  },
  "language_info": {
   "codemirror_mode": {
    "name": "ipython",
    "version": 3
   },
   "file_extension": ".py",
   "mimetype": "text/x-python",
   "name": "python",
   "nbconvert_exporter": "python",
   "pygments_lexer": "ipython3",
   "version": "3.10.11"
  }
 },
 "nbformat": 4,
 "nbformat_minor": 5
}
