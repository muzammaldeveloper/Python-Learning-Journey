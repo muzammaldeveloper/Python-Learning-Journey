{
 "cells": [
  {
   "cell_type": "markdown",
   "id": "a8f6c66e",
   "metadata": {},
   "source": [
    "# Temperature Conversion Assignment\n",
    "\n",
    "- First, I created a function named `convert_temperature` which accepts two parameters: `temp` (the temperature value) and `unit` (representing either Celsius `'C'` or Fahrenheit `'F'`).\n",
    "\n",
    "- Inside the function, I used conditional statements to handle the conversion:\n",
    "\n",
    "  - If the unit is `'C'`:\n",
    "    - It converts the Celsius temperature to Fahrenheit using the formula `(temp * 9/5) + 32`.\n",
    "\n",
    "  - If the unit is `'F'`:\n",
    "    - It converts the Fahrenheit temperature to Celsius using the formula `(temp - 32) * 5/9`.\n",
    "\n",
    "  - If the unit is neither `'C'` nor `'F'`:\n",
    "    - The function returns `None` to indicate an invalid input.\n"
   ]
  },
  {
   "cell_type": "code",
   "execution_count": null,
   "id": "b17070df",
   "metadata": {},
   "outputs": [],
   "source": [
    "def convert_temperature(temp,unit):\n",
    "    '''This function convert temperature between celsius and farnheit'''\n",
    "    if unit.upper() == 'C':\n",
    "        converted = (temp * 9/5) + 32 # Convert Celsius to Fahrenheit\n",
    "        return f\"{converted}°F\"\n",
    "    elif unit.upper() == 'F':\n",
    "        converted = (temp - 32) * 5/9 # Convert Fahrenheit to Celsius\n",
    "        return f\"{converted}°C\"\n",
    "    else:\n",
    "        return \"Invalid unit. Please use 'C' for Celsius or 'F' for Fahrenheit.\""
   ]
  },
  {
   "cell_type": "code",
   "execution_count": 8,
   "id": "5fb90c69",
   "metadata": {},
   "outputs": [
    {
     "name": "stdout",
     "output_type": "stream",
     "text": [
      "212.0°F\n",
      "100.0°C\n",
      "Invalid unit. Please use 'C' for Celsius or 'F' for Fahrenheit.\n"
     ]
    }
   ],
   "source": [
    "# Example usage\n",
    "print(convert_temperature(100, 'C'))   # Output: 212.0°F\n",
    "print(convert_temperature(212, 'F'))   # Output: 100.0°C\n",
    "print(convert_temperature(37, 'X'))    # Output: Invalid unit..."
   ]
  },
  {
   "cell_type": "code",
   "execution_count": null,
   "id": "74975454",
   "metadata": {},
   "outputs": [],
   "source": []
  }
 ],
 "metadata": {
  "kernelspec": {
   "display_name": "Python 3",
   "language": "python",
   "name": "python3"
  },
  "language_info": {
   "codemirror_mode": {
    "name": "ipython",
    "version": 3
   },
   "file_extension": ".py",
   "mimetype": "text/x-python",
   "name": "python",
   "nbconvert_exporter": "python",
   "pygments_lexer": "ipython3",
   "version": "3.13.5"
  }
 },
 "nbformat": 4,
 "nbformat_minor": 5
}
