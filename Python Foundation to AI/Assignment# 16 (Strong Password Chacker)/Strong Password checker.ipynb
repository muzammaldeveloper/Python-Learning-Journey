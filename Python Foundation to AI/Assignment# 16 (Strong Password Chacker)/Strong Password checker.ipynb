{
 "cells": [
  {
   "cell_type": "markdown",
   "id": "d5692d9b",
   "metadata": {},
   "source": [
    "# Strong Password Chacker (Explanation)\n",
    "\n",
    "Step 1: Define a function named is_strong_password with one parameter 'password'.\n",
    "The function checks whether the password meets specific security requirements.\n",
    "\n",
    "Step 2: Check if the length of the password is less than 8 characters.\n",
    "If yes, return False immediately.\n",
    "\n",
    "Step 3: Check if the password contains at least one digit (0-9).\n",
    "If not, return False.\n",
    "\n",
    "Step 4: Check if the password contains at least one lowercase letter (a-z).\n",
    "If not, return False.\n",
    "\n",
    "Step 5: Check if the password contains at least one uppercase letter (A-Z).\n",
    "If not, return False.\n",
    "\n",
    "Step 6: Check if the password contains at least one special character \n",
    "from the set: !@#$%^&*()-_=+[]{}|;:,.<>?/\n",
    "If not, return False.\n",
    "\n",
    "Step 7: If all the above conditions are passed, return True.\n",
    "\n",
    "Step 8: Ask the user to input a password using the input() function.\n",
    "\n",
    "Step 9: Display the entered password for user confirmation.\n",
    "\n",
    "Step 10: Call the is_strong_password() function to check if the entered password is strong.\n",
    "\n",
    "Step 11: If the password is strong, print a success message.\n",
    "\n",
    "Step 12: If the password is weak, display a message indicating it doesn't meet the requirements.\n",
    "Then, for each specific missing requirement, print a separate helpful hint:\n",
    "- If length < 8 → print: \"At least 8 characters\"\n",
    "- If no digit → print: \"At least one digit (0-9)\"\n",
    "- If no lowercase → print: \"At least one lowercase letter (a-z)\"\n",
    "- If no uppercase → print: \"At least one uppercase letter (A-Z)\"\n",
    "- If no special character → print: \"At least one special character (e.g. !, @, #, $)\"\n"
   ]
  },
  {
   "cell_type": "code",
   "execution_count": 3,
   "id": "23e0febc",
   "metadata": {},
   "outputs": [
    {
     "name": "stdout",
     "output_type": "stream",
     "text": [
      "\n",
      "You entered Password: n15\n",
      "\n",
      "Your password is weak. It should contain:\n",
      "- At least 8 characters\n",
      "- At least one uppercase letter (A-Z)\n",
      "- At least one special character (e.g. !, @, #, $)\n"
     ]
    }
   ],
   "source": [
    "def is_strong_password(password):\n",
    "    '''This function checks if the provided password meets the security requirements.'''\n",
    "    if len(password) < 8: # length check\n",
    "        return False\n",
    "    if not any(char.isdigit() for char in password): # digit check\n",
    "        return False\n",
    "    if not any(char.islower() for char in password): # lowercase letter check\n",
    "        return False\n",
    "    if not any(char.isupper() for char in password): # uppercase letter check\n",
    "        return False\n",
    "    if not any(char in \"!@#$%^&*()-_=+[]{}|;:,.<>?/\" for char in password): # special character check\n",
    "        return False\n",
    "    return True\n",
    "\n",
    "# Input section\n",
    "user_password = input(\"Please enter your password: \")\n",
    "\n",
    "print(f\"\\nYou entered Password: {user_password}\\n\")\n",
    "\n",
    "# Output logic\n",
    "if is_strong_password(user_password):\n",
    "    print(\"Your password is strong and meets all security requirements.\")\n",
    "else:\n",
    "    print(\"Your password is weak. It should contain:\")\n",
    "    if len(user_password) < 8: # length requirement\n",
    "        print(\"- At least 8 characters\")\n",
    "    if not any(char.isdigit() for char in user_password): # digit requirement\n",
    "        print(\"- At least one digit (0-9)\")\n",
    "    if not any(char.islower() for char in user_password): # lowercase letter requirement\n",
    "        print(\"- At least one lowercase letter (a-z)\")\n",
    "    if not any(char.isupper() for char in user_password): # uppercase letter requirement\n",
    "        print(\"- At least one uppercase letter (A-Z)\")\n",
    "    if not any(char in \"!@#$%^&*()-_=+[]{}|;:,.<>?/\" for char in user_password): # special character requirement\n",
    "        print(\"- At least one special character (e.g. !, @, #, $)\")\n"
   ]
  },
  {
   "cell_type": "code",
   "execution_count": null,
   "id": "4352ff06",
   "metadata": {},
   "outputs": [],
   "source": []
  }
 ],
 "metadata": {
  "kernelspec": {
   "display_name": "Python 3",
   "language": "python",
   "name": "python3"
  },
  "language_info": {
   "codemirror_mode": {
    "name": "ipython",
    "version": 3
   },
   "file_extension": ".py",
   "mimetype": "text/x-python",
   "name": "python",
   "nbconvert_exporter": "python",
   "pygments_lexer": "ipython3",
   "version": "3.10.11"
  }
 },
 "nbformat": 4,
 "nbformat_minor": 5
}
