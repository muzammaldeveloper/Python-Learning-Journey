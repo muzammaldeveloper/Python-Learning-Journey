{
 "cells": [
  {
   "cell_type": "markdown",
   "id": "dd313e15",
   "metadata": {},
   "source": [
    "#  Frequency Counter in Python\n",
    "\n",
    "This script counts the frequency of each number in a list using a dictionary. Here's a step-by-step breakdown:\n",
    "\n",
    "1. **List Creation:**  \n",
    "   A list named `my_list` is created, which contains several numbers — some of them appear more than once.\n",
    "\n",
    "2. **Empty Dictionary Initialization:**  \n",
    "   An empty dictionary called `frequency` is initialized. This will be used to store each unique number along with the number of times it appears in the list.\n",
    "\n",
    "3. **Frequency Calculation using a `for` loop:**  \n",
    "   The script iterates over each element in the list:\n",
    "   - If the number is already present in the dictionary, its value (count) is incremented by 1.\n",
    "   - If the number is not in the dictionary, it is added with an initial count of 1.\n",
    "\n",
    "4. **Display Output:**  \n",
    "   Finally, the script prints the dictionary, which shows each number and how many times it occurred in the list.\n",
    "\n",
    "---\n",
    "\n",
    "###  Example Output:\n",
    "```python\n",
    "{1: 1, 2: 4, 3: 2, 4: 5, 5: 6}\n",
    "\n"
   ]
  },
  {
   "cell_type": "code",
   "execution_count": 14,
   "id": "eb4ea39a",
   "metadata": {},
   "outputs": [
    {
     "name": "stdout",
     "output_type": "stream",
     "text": [
      "{1: 1, 2: 4, 3: 2, 4: 5, 5: 6}\n"
     ]
    }
   ],
   "source": [
    "# Frequency Counter\n",
    "\n",
    "# Define a list containing duplicate numbers\n",
    "my_list = [1, 2, 2, 2, 2, 3, 3, 4, 4, 4, 4, 4, 5, 5, 5, 5, 5, 5]\n",
    "\n",
    "# Create an empty dictionary to store the frequency of each number\n",
    "frequency = {}\n",
    "\n",
    "# Loop through each number in the list\n",
    "for x in my_list:\n",
    "    # If the number already exists in the dictionary, increment its count\n",
    "    if x in frequency:\n",
    "        frequency[x] += 1\n",
    "    # If the number is not in the dictionary, add it with a count of 1\n",
    "    else:\n",
    "        frequency[x] = 1\n",
    "\n",
    "# Print the final frequency count of each number in the list\n",
    "print(frequency)\n",
    "  \n",
    "\n"
   ]
  },
  {
   "cell_type": "code",
   "execution_count": null,
   "id": "3aab7708",
   "metadata": {},
   "outputs": [],
   "source": []
  }
 ],
 "metadata": {
  "kernelspec": {
   "display_name": "Python 3",
   "language": "python",
   "name": "python3"
  },
  "language_info": {
   "codemirror_mode": {
    "name": "ipython",
    "version": 3
   },
   "file_extension": ".py",
   "mimetype": "text/x-python",
   "name": "python",
   "nbconvert_exporter": "python",
   "pygments_lexer": "ipython3",
   "version": "3.10.11"
  }
 },
 "nbformat": 4,
 "nbformat_minor": 5
}
