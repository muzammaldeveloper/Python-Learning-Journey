{
 "cells": [
  {
   "cell_type": "markdown",
   "id": "06ce0d89",
   "metadata": {},
   "source": [
    "## User Login System using Conditional Statements\n",
    "\n",
    "- This Python script implements a basic user authentication system using `if-else` conditional logic.\n",
    "\n",
    "- It validates a user's credentials by comparing input with predefined username and password.  \n",
    "- The username check is case-insensitive, while the password check is case-sensitive.  \n",
    "- This example also includes basic input sanitization to remove unwanted spaces.\n"
   ]
  },
  {
   "cell_type": "code",
   "execution_count": 8,
   "id": "8b300e34",
   "metadata": {},
   "outputs": [
    {
     "name": "stdout",
     "output_type": "stream",
     "text": [
      "Username not found.\n",
      "Please check your username and try again.\n"
     ]
    }
   ],
   "source": [
    "# Step 1: Store the correct (predefined) login credentials\n",
    "stored_username = \"muzammaldeveloper\"\n",
    "stored_password = \"admin123\"\n",
    "\n",
    "# Step 2: Ask the user to enter their username\n",
    "username = input(\"Enter your username: \").strip()  # Removes extra spaces from input\n",
    "\n",
    "# Step 3: Check if entered username matches (case-insensitive)\n",
    "if username.lower() == stored_username.lower():\n",
    "    \n",
    "    # Step 4: If username is correct, ask for password\n",
    "    password = input(\"Enter your password:\")        # Password is case-sensitive\n",
    "    \n",
    "    # Step 5: Check if password matches exactly\n",
    "    if password == stored_password:\n",
    "        print(\"Access granted. Welcome\", username + \"!\")\n",
    "        print(\"Login successful\")\n",
    "    else:\n",
    "        print(\"Incorrect password.\")                # Password is wrong\n",
    "        print(\"Please check your password and try again.\")\n",
    "else:\n",
    "    print(\"Username not found.\")                    # Username does not match\n",
    "    print(\"Please check your username and try again.\")\n"
   ]
  },
  {
   "cell_type": "code",
   "execution_count": null,
   "id": "a5864239",
   "metadata": {},
   "outputs": [],
   "source": []
  },
  {
   "cell_type": "markdown",
   "id": "73601c5e",
   "metadata": {},
   "source": []
  },
  {
   "cell_type": "code",
   "execution_count": null,
   "id": "458d3fbd",
   "metadata": {},
   "outputs": [],
   "source": []
  }
 ],
 "metadata": {
  "kernelspec": {
   "display_name": "class",
   "language": "python",
   "name": "python3"
  },
  "language_info": {
   "codemirror_mode": {
    "name": "ipython",
    "version": 3
   },
   "file_extension": ".py",
   "mimetype": "text/x-python",
   "name": "python",
   "nbconvert_exporter": "python",
   "pygments_lexer": "ipython3",
   "version": "3.10.11"
  }
 },
 "nbformat": 4,
 "nbformat_minor": 5
}
