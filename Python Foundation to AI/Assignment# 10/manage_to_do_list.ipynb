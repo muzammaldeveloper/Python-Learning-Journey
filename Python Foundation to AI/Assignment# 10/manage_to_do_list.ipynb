{
 "cells": [
  {
   "cell_type": "markdown",
   "id": "9e9b9e44",
   "metadata": {},
   "source": [
    "# My Python To-Do List\n",
    "\n",
    "This is a simple Python script to manage my daily tasks.\n",
    "\n",
    "## Features:\n",
    "- Create a list with 4 tasks\n",
    "- Add 2 more tasks using `append()`\n",
    "- Remove a task using `remove()`\n",
    "- Check if a task exists using `if` condition\n",
    "- Print the final list\n",
    "\n",
    "Great for practicing:\n",
    "- Python lists\n",
    "- List methods\n",
    "- Conditional statements\n"
   ]
  },
  {
   "cell_type": "code",
   "execution_count": 4,
   "id": "2c97ea31",
   "metadata": {},
   "outputs": [
    {
     "name": "stdout",
     "output_type": "stream",
     "text": [
      "Buy food is not in the list.\n",
      "\n",
      "My updated to-do list is: ['Go for walk', 'Read book', 'Write code', 'Watch movie', 'Call friend']\n"
     ]
    }
   ],
   "source": [
    "# Step 1: Create a to-do list with 4 tasks\n",
    "to_do_list = [\"Buy food\", \"Go for walk\", \"Read book\", \"Write code\"]\n",
    "\n",
    "# Step 2: Add 2 more tasks\n",
    "to_do_list.append(\"Watch movie\")\n",
    "to_do_list.append(\"Call friend\")\n",
    "\n",
    "# Step 3: Remove a completed task\n",
    "to_do_list.remove(\"Buy food\")\n",
    "\n",
    "# Step 4: Check if \"Buy food\" is still in the list\n",
    "if \"Buy food\" in to_do_list:\n",
    "    print(\"Buy food is in the list.\")\n",
    "else:\n",
    "    print(\"Buy food is not in the list.\")\n",
    "\n",
    "# Step 5: Print the updated list\n",
    "print(\"\\nMy updated to-do list is:\", to_do_list)\n"
   ]
  },
  {
   "cell_type": "code",
   "execution_count": null,
   "id": "4d91a107",
   "metadata": {},
   "outputs": [],
   "source": []
  }
 ],
 "metadata": {
  "kernelspec": {
   "display_name": "Python 3",
   "language": "python",
   "name": "python3"
  },
  "language_info": {
   "codemirror_mode": {
    "name": "ipython",
    "version": 3
   },
   "file_extension": ".py",
   "mimetype": "text/x-python",
   "name": "python",
   "nbconvert_exporter": "python",
   "pygments_lexer": "ipython3",
   "version": "3.10.11"
  }
 },
 "nbformat": 4,
 "nbformat_minor": 5
}
