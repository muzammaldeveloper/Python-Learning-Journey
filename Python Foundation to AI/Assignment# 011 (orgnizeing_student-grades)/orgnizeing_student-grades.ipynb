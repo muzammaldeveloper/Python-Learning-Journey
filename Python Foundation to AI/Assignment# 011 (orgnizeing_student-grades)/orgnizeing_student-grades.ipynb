{
 "cells": [
  {
   "cell_type": "markdown",
   "id": "cfa15fd9",
   "metadata": {},
   "source": [
    "#  Assignment: Organizing Student Grades\n",
    "\n",
    "In this Python assignment, I worked with a list of student grades to perform basic data operations.\n",
    "\n",
    "##  Steps Performed:\n",
    "\n",
    "1. I created a list named `grades` containing 9 numerical values (marks).\n",
    "2. I added one more grade to the list using the `append()` method.\n",
    "3. I found the highest grade using the `max()` function.\n",
    "4. I found the lowest grade using the `min()` function.\n",
    "5. I calculated the average of all grades using `sum()` divided by `len()`.\n",
    "6. Finally, I printed:\n",
    "   - The full list of grades\n",
    "   - The highest grade\n",
    "   - The lowest grade\n",
    "   - The average grade\n",
    "\n",
    "## Key Concepts Used:\n",
    "\n",
    "- Python lists  \n",
    "- List methods (`append`)  \n",
    "- Built-in functions (`max`, `min`, `sum`, `len`)  \n",
    "- Basic arithmetic operations  \n",
    "- Print formatting\n",
    "\n",
    "This task helped me understand how to store, manipulate, and analyze numerical data in Python.\n"
   ]
  },
  {
   "cell_type": "code",
   "execution_count": 3,
   "id": "3bce568e",
   "metadata": {},
   "outputs": [
    {
     "name": "stdout",
     "output_type": "stream",
     "text": [
      "Grades: [87, 92, 78, 85, 90, 88, 95, 80, 76, 89]\n",
      "Highest Grade: 95\n",
      "Lowest Grade: 76\n",
      "Average Grade: 86.0\n"
     ]
    }
   ],
   "source": [
    "# Create a list of student grades\n",
    "grades = [87, 92, 78, 85, 90, 88, 95, 80, 76]\n",
    "\n",
    "# Add an additional grade to the list\n",
    "grades.append(89)\n",
    "\n",
    "# Find the highest grade in the list\n",
    "highest_grades = max(grades)\n",
    "\n",
    "# Find the lowest grade in the list\n",
    "lowest_grades = min(grades)\n",
    "\n",
    "# Calculate the average grade\n",
    "average_grades = sum(grades) / len(grades)\n",
    "\n",
    "# Display the results\n",
    "print(\"Grades:\", grades)\n",
    "print(\"Highest Grade:\", highest_grades)\n",
    "print(\"Lowest Grade:\", lowest_grades)\n",
    "print(\"Average Grade:\", average_grades)\n"
   ]
  }
 ],
 "metadata": {
  "kernelspec": {
   "display_name": "class",
   "language": "python",
   "name": "python3"
  },
  "language_info": {
   "codemirror_mode": {
    "name": "ipython",
    "version": 3
   },
   "file_extension": ".py",
   "mimetype": "text/x-python",
   "name": "python",
   "nbconvert_exporter": "python",
   "pygments_lexer": "ipython3",
   "version": "3.10.11"
  }
 },
 "nbformat": 4,
 "nbformat_minor": 5
}
