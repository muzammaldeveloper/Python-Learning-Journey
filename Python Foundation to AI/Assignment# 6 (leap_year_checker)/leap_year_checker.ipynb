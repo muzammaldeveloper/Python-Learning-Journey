{
 "cells": [
  {
   "cell_type": "markdown",
   "id": "0266f39a",
   "metadata": {},
   "source": [
    "#  Leap Year Checker – Python Assignment\n",
    "\n",
    "This Python program determines whether a given year is a **leap year** or not using **arithmetic operators** and **conditional statements** (`if`, `elif`, `else`).  \n",
    "Leap years occur every 4 years and contain **366 days** (with **29 days in February**).\n",
    "\n",
    "---\n",
    "\n",
    "##  Logic Behind a Leap Year:\n",
    "\n",
    "A year is considered a leap year **if it satisfies the following conditions**:\n",
    "\n",
    "1. The year is **divisible by 4**\n",
    "2. But **not divisible by 100**, **unless** it's also **divisible by 400**\n",
    "\n",
    "###  Summary of Conditions:\n",
    "\n",
    "| Condition | Result |\n",
    "|-----------|--------|\n",
    "| Divisible by 4 → YES | Continue check |\n",
    "| Divisible by 100 → NO | Unless also divisible by 400 |\n",
    "| Divisible by 400 → YES | Leap Year  |\n",
    "| Else → Not a Leap Year  | |\n"
   ]
  },
  {
   "cell_type": "code",
   "execution_count": 4,
   "id": "0edcc404",
   "metadata": {},
   "outputs": [
    {
     "name": "stdout",
     "output_type": "stream",
     "text": [
      "2004 is a Leap Year\n"
     ]
    }
   ],
   "source": [
    "# Taking year input from the user\n",
    "year = int(input(\"Enter a year to check if it's a Leap Year: \"))\n",
    "\n",
    "# Step 1: Check if the year is divisible by 4\n",
    "if year % 4 == 0:\n",
    "\n",
    "    # Step 2: Check if the year is not divisible by 100\n",
    "    if year % 100 != 0:\n",
    "        print(f\"{year} is a Leap Year\")\n",
    "\n",
    "    # Step 3: If divisible by 100, then it must also be divisible by 400\n",
    "    elif year % 400 == 0:\n",
    "        print(f\"{year} is a Leap Year\")\n",
    "\n",
    "    # If divisible by 100 but not by 400\n",
    "    else:\n",
    "        print(f\"{year} is NOT a Leap Year\")\n",
    "\n",
    "# If not divisible by 4 at all\n",
    "else:\n",
    "    print(f\"{year} is NOT a Leap Year\")"
   ]
  }
 ],
 "metadata": {
  "kernelspec": {
   "display_name": "class",
   "language": "python",
   "name": "python3"
  },
  "language_info": {
   "codemirror_mode": {
    "name": "ipython",
    "version": 3
   },
   "file_extension": ".py",
   "mimetype": "text/x-python",
   "name": "python",
   "nbconvert_exporter": "python",
   "pygments_lexer": "ipython3",
   "version": "3.10.11"
  }
 },
 "nbformat": 4,
 "nbformat_minor": 5
}
