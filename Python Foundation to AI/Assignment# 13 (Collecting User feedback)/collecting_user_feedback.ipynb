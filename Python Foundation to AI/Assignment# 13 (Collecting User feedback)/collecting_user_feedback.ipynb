{
 "cells": [
  {
   "cell_type": "markdown",
   "id": "76048290",
   "metadata": {},
   "source": [
    "# Collecting User Feedback\n",
    "- In this task, I created a simple user feedback system using Python.\n",
    "- First, I defined a list to store feedback comments. Then, I added one more feedback using the .append() method.\n",
    "- After that, I calculated the number of positive feedbacks by checking for words like \"great\" and \"excellent\".\n",
    "- Finally, I printed all the feedback comments one by one."
   ]
  },
  {
   "cell_type": "code",
   "execution_count": 1,
   "id": "96c387e7",
   "metadata": {},
   "outputs": [
    {
     "name": "stdout",
     "output_type": "stream",
     "text": [
      "Positive Feedback Count: 2\n",
      "User Feedback: \n",
      " - Great Service!\n",
      " - Very satisfied\n",
      " - Could be better\n",
      " - Excellent experience\n",
      " - Not happy with the service\n"
     ]
    }
   ],
   "source": [
    "#  Collecting User feedback\n",
    "\n",
    "# Use a list to collect and analyze user feedback\n",
    "\n",
    "#Collecting user feedback\n",
    "feedback = [\"Great Service!\", \"Very satisfied\",\"Could be better\",\"Excellent experience\"]\n",
    "\n",
    "# add new feedback\n",
    "feedback.append(\"Not happy with the service\")\n",
    "\n",
    "#Couting specific feedback\n",
    "positive_feedback_count = sum(1 for comment in feedback if \"great\" in comment.lower() or \"excellent\" in comment.lower())\n",
    "print(f\"Positive Feedback Count: {positive_feedback_count}\")\n",
    "\n",
    "# Print all the feedback\n",
    "print(\"User Feedback: \")\n",
    "\n",
    "for comment in feedback:\n",
    "    print(f\" - {comment}\")"
   ]
  },
  {
   "cell_type": "code",
   "execution_count": null,
   "id": "5b8c5a0d",
   "metadata": {},
   "outputs": [],
   "source": []
  }
 ],
 "metadata": {
  "kernelspec": {
   "display_name": "class",
   "language": "python",
   "name": "python3"
  },
  "language_info": {
   "codemirror_mode": {
    "name": "ipython",
    "version": 3
   },
   "file_extension": ".py",
   "mimetype": "text/x-python",
   "name": "python",
   "nbconvert_exporter": "python",
   "pygments_lexer": "ipython3",
   "version": "3.10.11"
  }
 },
 "nbformat": 4,
 "nbformat_minor": 5
}
